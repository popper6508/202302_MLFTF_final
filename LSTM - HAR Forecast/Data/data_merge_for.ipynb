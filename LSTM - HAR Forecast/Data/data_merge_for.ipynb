{
 "cells": [
  {
   "cell_type": "code",
   "execution_count": 1,
   "metadata": {},
   "outputs": [],
   "source": [
    "import pandas as pd\n",
    "import numpy as np\n",
    "import datetime"
   ]
  },
  {
   "cell_type": "code",
   "execution_count": 2,
   "metadata": {},
   "outputs": [],
   "source": [
    "def gen_date_inf(data):\n",
    "    pd.set_option('mode.chained_assignment', None)\n",
    "\n",
    "    date_inf = pd.DataFrame(index=data.index, columns=['date', 'weekday', 'month', 'monthth', 'weekth', 'dayth'])\n",
    "\n",
    "    date_inf['date'] = [datetime.datetime.strptime(str(d), \"%Y-%m-%d\") for d in date_inf.index]\n",
    "    date_inf['weekday'] = [d.weekday() for d in date_inf['date']]\n",
    "    date_inf['month'] = [d.month for d in date_inf['date']]\n",
    "\n",
    "    months, weeks, days = (0, 0, 1)\n",
    "    for i in range(len(date_inf)):\n",
    "        if i == 0:\n",
    "            date_inf['monthth'].iloc[i] = 0\n",
    "            date_inf['weekth'].iloc[i] = 0\n",
    "            date_inf['dayth'].iloc[i] = 0\n",
    "            continue\n",
    "        if date_inf.iloc[i]['weekday'] - date_inf.iloc[i - 1]['weekday'] <= 0:\n",
    "            weeks += 1\n",
    "        if date_inf.iloc[i]['month'] - date_inf.iloc[i - 1]['month'] != 0:\n",
    "            months += 1\n",
    "        date_inf['monthth'].iloc[i] = int(months)\n",
    "        date_inf['weekth'].iloc[i] = int(weeks)\n",
    "        date_inf['dayth'].iloc[i] = int(days)\n",
    "        days += 1\n",
    "    return date_inf"
   ]
  },
  {
   "cell_type": "code",
   "execution_count": 3,
   "metadata": {},
   "outputs": [],
   "source": [
    "data_2 = pd.read_csv('Daily.csv')"
   ]
  },
  {
   "cell_type": "code",
   "execution_count": 6,
   "metadata": {},
   "outputs": [],
   "source": [
    "data_2 = data_2.dropna(axis=1)"
   ]
  },
  {
   "cell_type": "code",
   "execution_count": 8,
   "metadata": {},
   "outputs": [],
   "source": [
    "data_2.index = data_2['날짜']"
   ]
  },
  {
   "cell_type": "code",
   "execution_count": 10,
   "metadata": {},
   "outputs": [],
   "source": [
    "data_2_info = gen_date_inf(data_2)"
   ]
  },
  {
   "cell_type": "code",
   "execution_count": 11,
   "metadata": {},
   "outputs": [],
   "source": [
    "data_2_merge = pd.merge(data_2_info, data_2, right_index=True, left_index=True)"
   ]
  },
  {
   "cell_type": "code",
   "execution_count": 13,
   "metadata": {},
   "outputs": [
    {
     "data": {
      "text/html": [
       "<div>\n",
       "<style scoped>\n",
       "    .dataframe tbody tr th:only-of-type {\n",
       "        vertical-align: middle;\n",
       "    }\n",
       "\n",
       "    .dataframe tbody tr th {\n",
       "        vertical-align: top;\n",
       "    }\n",
       "\n",
       "    .dataframe thead th {\n",
       "        text-align: right;\n",
       "    }\n",
       "</style>\n",
       "<table border=\"1\" class=\"dataframe\">\n",
       "  <thead>\n",
       "    <tr style=\"text-align: right;\">\n",
       "      <th></th>\n",
       "      <th>monthth</th>\n",
       "      <th>종가</th>\n",
       "    </tr>\n",
       "    <tr>\n",
       "      <th>날짜</th>\n",
       "      <th></th>\n",
       "      <th></th>\n",
       "    </tr>\n",
       "  </thead>\n",
       "  <tbody>\n",
       "    <tr>\n",
       "      <th>1986-01-02</th>\n",
       "      <td>0</td>\n",
       "      <td>25.56</td>\n",
       "    </tr>\n",
       "    <tr>\n",
       "      <th>1986-01-03</th>\n",
       "      <td>0</td>\n",
       "      <td>25.97</td>\n",
       "    </tr>\n",
       "    <tr>\n",
       "      <th>1986-01-06</th>\n",
       "      <td>0</td>\n",
       "      <td>26.57</td>\n",
       "    </tr>\n",
       "    <tr>\n",
       "      <th>1986-01-07</th>\n",
       "      <td>0</td>\n",
       "      <td>26.20</td>\n",
       "    </tr>\n",
       "    <tr>\n",
       "      <th>1986-01-08</th>\n",
       "      <td>0</td>\n",
       "      <td>25.93</td>\n",
       "    </tr>\n",
       "    <tr>\n",
       "      <th>...</th>\n",
       "      <td>...</td>\n",
       "      <td>...</td>\n",
       "    </tr>\n",
       "    <tr>\n",
       "      <th>2023-11-17</th>\n",
       "      <td>454</td>\n",
       "      <td>75.89</td>\n",
       "    </tr>\n",
       "    <tr>\n",
       "      <th>2023-11-20</th>\n",
       "      <td>454</td>\n",
       "      <td>77.60</td>\n",
       "    </tr>\n",
       "    <tr>\n",
       "      <th>2023-11-21</th>\n",
       "      <td>454</td>\n",
       "      <td>77.77</td>\n",
       "    </tr>\n",
       "    <tr>\n",
       "      <th>2023-11-22</th>\n",
       "      <td>454</td>\n",
       "      <td>77.10</td>\n",
       "    </tr>\n",
       "    <tr>\n",
       "      <th>2023-11-23</th>\n",
       "      <td>454</td>\n",
       "      <td>76.44</td>\n",
       "    </tr>\n",
       "  </tbody>\n",
       "</table>\n",
       "<p>9645 rows × 2 columns</p>\n",
       "</div>"
      ],
      "text/plain": [
       "           monthth     종가\n",
       "날짜                       \n",
       "1986-01-02       0  25.56\n",
       "1986-01-03       0  25.97\n",
       "1986-01-06       0  26.57\n",
       "1986-01-07       0  26.20\n",
       "1986-01-08       0  25.93\n",
       "...            ...    ...\n",
       "2023-11-17     454  75.89\n",
       "2023-11-20     454  77.60\n",
       "2023-11-21     454  77.77\n",
       "2023-11-22     454  77.10\n",
       "2023-11-23     454  76.44\n",
       "\n",
       "[9645 rows x 2 columns]"
      ]
     },
     "execution_count": 13,
     "metadata": {},
     "output_type": "execute_result"
    }
   ],
   "source": [
    "data_2_merge[['monthth', '종가']]"
   ]
  },
  {
   "cell_type": "code",
   "execution_count": 14,
   "metadata": {},
   "outputs": [],
   "source": [
    "data_2_merge[['monthth', '종가']].to_csv('monthly_convert.csv')"
   ]
  }
 ],
 "metadata": {
  "kernelspec": {
   "display_name": "base",
   "language": "python",
   "name": "python3"
  },
  "language_info": {
   "codemirror_mode": {
    "name": "ipython",
    "version": 3
   },
   "file_extension": ".py",
   "mimetype": "text/x-python",
   "name": "python",
   "nbconvert_exporter": "python",
   "pygments_lexer": "ipython3",
   "version": "3.11.5"
  }
 },
 "nbformat": 4,
 "nbformat_minor": 2
}
